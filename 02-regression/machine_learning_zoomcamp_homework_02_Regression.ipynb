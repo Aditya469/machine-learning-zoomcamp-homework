{
  "nbformat": 4,
  "nbformat_minor": 0,
  "metadata": {
    "colab": {
      "provenance": []
    },
    "kernelspec": {
      "name": "python3",
      "display_name": "Python 3"
    },
    "language_info": {
      "name": "python"
    }
  },
  "cells": [
    {
      "cell_type": "markdown",
      "source": [
        "#0. Installing Prerequists"
      ],
      "metadata": {
        "id": "KXo9_-i8Dgpu"
      }
    },
    {
      "cell_type": "code",
      "execution_count": null,
      "metadata": {
        "id": "aEBwDXhgDWDe"
      },
      "outputs": [],
      "source": [
        "import pandas as pd\n",
        "import numpy as np"
      ]
    },
    {
      "cell_type": "markdown",
      "source": [
        "#0.1. Loading Dataset"
      ],
      "metadata": {
        "id": "1_sjztHSDrJ9"
      }
    },
    {
      "cell_type": "code",
      "source": [
        "print(\"Loading Dataset...\")\n",
        "df = pd.read_csv(\"https://raw.githubusercontent.com/alexeygrigorev/datasets/master/car_fuel_efficiency.csv\")\n",
        "print(\"Dataset for homework 2 loaded successfully!\")"
      ],
      "metadata": {
        "colab": {
          "base_uri": "https://localhost:8080/"
        },
        "id": "_FA5gwiaD8D5",
        "outputId": "bedc132c-d45d-4cf8-f1fc-6343548b9636"
      },
      "execution_count": null,
      "outputs": [
        {
          "output_type": "stream",
          "name": "stdout",
          "text": [
            "Loading Dataset...\n",
            "Dataset for homework 2 loaded successfully!\n"
          ]
        }
      ]
    },
    {
      "cell_type": "markdown",
      "source": [
        "Validating the dataset...."
      ],
      "metadata": {
        "id": "OtG6T-P-EYdi"
      }
    },
    {
      "cell_type": "code",
      "source": [
        "print(f\"Dataset Loaded: {df.shape}\")"
      ],
      "metadata": {
        "colab": {
          "base_uri": "https://localhost:8080/"
        },
        "id": "8vn7DQCpESzD",
        "outputId": "36c23e44-ce8a-480e-c85b-47e8e7617af3"
      },
      "execution_count": null,
      "outputs": [
        {
          "output_type": "stream",
          "name": "stdout",
          "text": [
            "Dataset Loaded: (9704, 11)\n"
          ]
        }
      ]
    },
    {
      "cell_type": "markdown",
      "source": [
        "#0.2. Selecting the Columns"
      ],
      "metadata": {
        "id": "PBANoG0eE4cD"
      }
    },
    {
      "cell_type": "code",
      "source": [
        "columns_to_use = ['engine_displacement', 'horsepower', 'vehicle_weight', 'model_year', 'fuel_efficiency_mpg']\n",
        "df = df[columns_to_use]\n",
        "print(f\"Using only specified columns: {df.shape}\")\n",
        "print()"
      ],
      "metadata": {
        "colab": {
          "base_uri": "https://localhost:8080/"
        },
        "id": "GrynpLVVFAab",
        "outputId": "66f7a3bb-b1a9-47bb-88a0-ef81f0c84cc9"
      },
      "execution_count": null,
      "outputs": [
        {
          "output_type": "stream",
          "name": "stdout",
          "text": [
            "Using only specified columns: (9704, 5)\n",
            "\n"
          ]
        }
      ]
    },
    {
      "cell_type": "markdown",
      "source": [
        "#1. Finding out the Column with Missing Values"
      ],
      "metadata": {
        "id": "QNhhcIn1Ff1P"
      }
    },
    {
      "cell_type": "code",
      "source": [
        "df.head()"
      ],
      "metadata": {
        "colab": {
          "base_uri": "https://localhost:8080/",
          "height": 206
        },
        "id": "k8UstBWPGRS-",
        "outputId": "73e1f532-bb96-47d8-c1d9-358d907d5b1c"
      },
      "execution_count": null,
      "outputs": [
        {
          "output_type": "execute_result",
          "data": {
            "text/plain": [
              "   engine_displacement  horsepower  vehicle_weight  model_year  \\\n",
              "0                  170       159.0     3413.433759        2003   \n",
              "1                  130        97.0     3149.664934        2007   \n",
              "2                  170        78.0     3079.038997        2018   \n",
              "3                  220         NaN     2542.392402        2009   \n",
              "4                  210       140.0     3460.870990        2009   \n",
              "\n",
              "   fuel_efficiency_mpg  \n",
              "0            13.231729  \n",
              "1            13.688217  \n",
              "2            14.246341  \n",
              "3            16.912736  \n",
              "4            12.488369  "
            ],
            "text/html": [
              "\n",
              "  <div id=\"df-3183af50-2b8b-4ff6-9f46-c862c25ae32a\" class=\"colab-df-container\">\n",
              "    <div>\n",
              "<style scoped>\n",
              "    .dataframe tbody tr th:only-of-type {\n",
              "        vertical-align: middle;\n",
              "    }\n",
              "\n",
              "    .dataframe tbody tr th {\n",
              "        vertical-align: top;\n",
              "    }\n",
              "\n",
              "    .dataframe thead th {\n",
              "        text-align: right;\n",
              "    }\n",
              "</style>\n",
              "<table border=\"1\" class=\"dataframe\">\n",
              "  <thead>\n",
              "    <tr style=\"text-align: right;\">\n",
              "      <th></th>\n",
              "      <th>engine_displacement</th>\n",
              "      <th>horsepower</th>\n",
              "      <th>vehicle_weight</th>\n",
              "      <th>model_year</th>\n",
              "      <th>fuel_efficiency_mpg</th>\n",
              "    </tr>\n",
              "  </thead>\n",
              "  <tbody>\n",
              "    <tr>\n",
              "      <th>0</th>\n",
              "      <td>170</td>\n",
              "      <td>159.0</td>\n",
              "      <td>3413.433759</td>\n",
              "      <td>2003</td>\n",
              "      <td>13.231729</td>\n",
              "    </tr>\n",
              "    <tr>\n",
              "      <th>1</th>\n",
              "      <td>130</td>\n",
              "      <td>97.0</td>\n",
              "      <td>3149.664934</td>\n",
              "      <td>2007</td>\n",
              "      <td>13.688217</td>\n",
              "    </tr>\n",
              "    <tr>\n",
              "      <th>2</th>\n",
              "      <td>170</td>\n",
              "      <td>78.0</td>\n",
              "      <td>3079.038997</td>\n",
              "      <td>2018</td>\n",
              "      <td>14.246341</td>\n",
              "    </tr>\n",
              "    <tr>\n",
              "      <th>3</th>\n",
              "      <td>220</td>\n",
              "      <td>NaN</td>\n",
              "      <td>2542.392402</td>\n",
              "      <td>2009</td>\n",
              "      <td>16.912736</td>\n",
              "    </tr>\n",
              "    <tr>\n",
              "      <th>4</th>\n",
              "      <td>210</td>\n",
              "      <td>140.0</td>\n",
              "      <td>3460.870990</td>\n",
              "      <td>2009</td>\n",
              "      <td>12.488369</td>\n",
              "    </tr>\n",
              "  </tbody>\n",
              "</table>\n",
              "</div>\n",
              "    <div class=\"colab-df-buttons\">\n",
              "\n",
              "  <div class=\"colab-df-container\">\n",
              "    <button class=\"colab-df-convert\" onclick=\"convertToInteractive('df-3183af50-2b8b-4ff6-9f46-c862c25ae32a')\"\n",
              "            title=\"Convert this dataframe to an interactive table.\"\n",
              "            style=\"display:none;\">\n",
              "\n",
              "  <svg xmlns=\"http://www.w3.org/2000/svg\" height=\"24px\" viewBox=\"0 -960 960 960\">\n",
              "    <path d=\"M120-120v-720h720v720H120Zm60-500h600v-160H180v160Zm220 220h160v-160H400v160Zm0 220h160v-160H400v160ZM180-400h160v-160H180v160Zm440 0h160v-160H620v160ZM180-180h160v-160H180v160Zm440 0h160v-160H620v160Z\"/>\n",
              "  </svg>\n",
              "    </button>\n",
              "\n",
              "  <style>\n",
              "    .colab-df-container {\n",
              "      display:flex;\n",
              "      gap: 12px;\n",
              "    }\n",
              "\n",
              "    .colab-df-convert {\n",
              "      background-color: #E8F0FE;\n",
              "      border: none;\n",
              "      border-radius: 50%;\n",
              "      cursor: pointer;\n",
              "      display: none;\n",
              "      fill: #1967D2;\n",
              "      height: 32px;\n",
              "      padding: 0 0 0 0;\n",
              "      width: 32px;\n",
              "    }\n",
              "\n",
              "    .colab-df-convert:hover {\n",
              "      background-color: #E2EBFA;\n",
              "      box-shadow: 0px 1px 2px rgba(60, 64, 67, 0.3), 0px 1px 3px 1px rgba(60, 64, 67, 0.15);\n",
              "      fill: #174EA6;\n",
              "    }\n",
              "\n",
              "    .colab-df-buttons div {\n",
              "      margin-bottom: 4px;\n",
              "    }\n",
              "\n",
              "    [theme=dark] .colab-df-convert {\n",
              "      background-color: #3B4455;\n",
              "      fill: #D2E3FC;\n",
              "    }\n",
              "\n",
              "    [theme=dark] .colab-df-convert:hover {\n",
              "      background-color: #434B5C;\n",
              "      box-shadow: 0px 1px 3px 1px rgba(0, 0, 0, 0.15);\n",
              "      filter: drop-shadow(0px 1px 2px rgba(0, 0, 0, 0.3));\n",
              "      fill: #FFFFFF;\n",
              "    }\n",
              "  </style>\n",
              "\n",
              "    <script>\n",
              "      const buttonEl =\n",
              "        document.querySelector('#df-3183af50-2b8b-4ff6-9f46-c862c25ae32a button.colab-df-convert');\n",
              "      buttonEl.style.display =\n",
              "        google.colab.kernel.accessAllowed ? 'block' : 'none';\n",
              "\n",
              "      async function convertToInteractive(key) {\n",
              "        const element = document.querySelector('#df-3183af50-2b8b-4ff6-9f46-c862c25ae32a');\n",
              "        const dataTable =\n",
              "          await google.colab.kernel.invokeFunction('convertToInteractive',\n",
              "                                                    [key], {});\n",
              "        if (!dataTable) return;\n",
              "\n",
              "        const docLinkHtml = 'Like what you see? Visit the ' +\n",
              "          '<a target=\"_blank\" href=https://colab.research.google.com/notebooks/data_table.ipynb>data table notebook</a>'\n",
              "          + ' to learn more about interactive tables.';\n",
              "        element.innerHTML = '';\n",
              "        dataTable['output_type'] = 'display_data';\n",
              "        await google.colab.output.renderOutput(dataTable, element);\n",
              "        const docLink = document.createElement('div');\n",
              "        docLink.innerHTML = docLinkHtml;\n",
              "        element.appendChild(docLink);\n",
              "      }\n",
              "    </script>\n",
              "  </div>\n",
              "\n",
              "\n",
              "    <div id=\"df-514e3560-f751-432d-b033-455656ebb7e3\">\n",
              "      <button class=\"colab-df-quickchart\" onclick=\"quickchart('df-514e3560-f751-432d-b033-455656ebb7e3')\"\n",
              "                title=\"Suggest charts\"\n",
              "                style=\"display:none;\">\n",
              "\n",
              "<svg xmlns=\"http://www.w3.org/2000/svg\" height=\"24px\"viewBox=\"0 0 24 24\"\n",
              "     width=\"24px\">\n",
              "    <g>\n",
              "        <path d=\"M19 3H5c-1.1 0-2 .9-2 2v14c0 1.1.9 2 2 2h14c1.1 0 2-.9 2-2V5c0-1.1-.9-2-2-2zM9 17H7v-7h2v7zm4 0h-2V7h2v10zm4 0h-2v-4h2v4z\"/>\n",
              "    </g>\n",
              "</svg>\n",
              "      </button>\n",
              "\n",
              "<style>\n",
              "  .colab-df-quickchart {\n",
              "      --bg-color: #E8F0FE;\n",
              "      --fill-color: #1967D2;\n",
              "      --hover-bg-color: #E2EBFA;\n",
              "      --hover-fill-color: #174EA6;\n",
              "      --disabled-fill-color: #AAA;\n",
              "      --disabled-bg-color: #DDD;\n",
              "  }\n",
              "\n",
              "  [theme=dark] .colab-df-quickchart {\n",
              "      --bg-color: #3B4455;\n",
              "      --fill-color: #D2E3FC;\n",
              "      --hover-bg-color: #434B5C;\n",
              "      --hover-fill-color: #FFFFFF;\n",
              "      --disabled-bg-color: #3B4455;\n",
              "      --disabled-fill-color: #666;\n",
              "  }\n",
              "\n",
              "  .colab-df-quickchart {\n",
              "    background-color: var(--bg-color);\n",
              "    border: none;\n",
              "    border-radius: 50%;\n",
              "    cursor: pointer;\n",
              "    display: none;\n",
              "    fill: var(--fill-color);\n",
              "    height: 32px;\n",
              "    padding: 0;\n",
              "    width: 32px;\n",
              "  }\n",
              "\n",
              "  .colab-df-quickchart:hover {\n",
              "    background-color: var(--hover-bg-color);\n",
              "    box-shadow: 0 1px 2px rgba(60, 64, 67, 0.3), 0 1px 3px 1px rgba(60, 64, 67, 0.15);\n",
              "    fill: var(--button-hover-fill-color);\n",
              "  }\n",
              "\n",
              "  .colab-df-quickchart-complete:disabled,\n",
              "  .colab-df-quickchart-complete:disabled:hover {\n",
              "    background-color: var(--disabled-bg-color);\n",
              "    fill: var(--disabled-fill-color);\n",
              "    box-shadow: none;\n",
              "  }\n",
              "\n",
              "  .colab-df-spinner {\n",
              "    border: 2px solid var(--fill-color);\n",
              "    border-color: transparent;\n",
              "    border-bottom-color: var(--fill-color);\n",
              "    animation:\n",
              "      spin 1s steps(1) infinite;\n",
              "  }\n",
              "\n",
              "  @keyframes spin {\n",
              "    0% {\n",
              "      border-color: transparent;\n",
              "      border-bottom-color: var(--fill-color);\n",
              "      border-left-color: var(--fill-color);\n",
              "    }\n",
              "    20% {\n",
              "      border-color: transparent;\n",
              "      border-left-color: var(--fill-color);\n",
              "      border-top-color: var(--fill-color);\n",
              "    }\n",
              "    30% {\n",
              "      border-color: transparent;\n",
              "      border-left-color: var(--fill-color);\n",
              "      border-top-color: var(--fill-color);\n",
              "      border-right-color: var(--fill-color);\n",
              "    }\n",
              "    40% {\n",
              "      border-color: transparent;\n",
              "      border-right-color: var(--fill-color);\n",
              "      border-top-color: var(--fill-color);\n",
              "    }\n",
              "    60% {\n",
              "      border-color: transparent;\n",
              "      border-right-color: var(--fill-color);\n",
              "    }\n",
              "    80% {\n",
              "      border-color: transparent;\n",
              "      border-right-color: var(--fill-color);\n",
              "      border-bottom-color: var(--fill-color);\n",
              "    }\n",
              "    90% {\n",
              "      border-color: transparent;\n",
              "      border-bottom-color: var(--fill-color);\n",
              "    }\n",
              "  }\n",
              "</style>\n",
              "\n",
              "      <script>\n",
              "        async function quickchart(key) {\n",
              "          const quickchartButtonEl =\n",
              "            document.querySelector('#' + key + ' button');\n",
              "          quickchartButtonEl.disabled = true;  // To prevent multiple clicks.\n",
              "          quickchartButtonEl.classList.add('colab-df-spinner');\n",
              "          try {\n",
              "            const charts = await google.colab.kernel.invokeFunction(\n",
              "                'suggestCharts', [key], {});\n",
              "          } catch (error) {\n",
              "            console.error('Error during call to suggestCharts:', error);\n",
              "          }\n",
              "          quickchartButtonEl.classList.remove('colab-df-spinner');\n",
              "          quickchartButtonEl.classList.add('colab-df-quickchart-complete');\n",
              "        }\n",
              "        (() => {\n",
              "          let quickchartButtonEl =\n",
              "            document.querySelector('#df-514e3560-f751-432d-b033-455656ebb7e3 button');\n",
              "          quickchartButtonEl.style.display =\n",
              "            google.colab.kernel.accessAllowed ? 'block' : 'none';\n",
              "        })();\n",
              "      </script>\n",
              "    </div>\n",
              "\n",
              "    </div>\n",
              "  </div>\n"
            ],
            "application/vnd.google.colaboratory.intrinsic+json": {
              "type": "dataframe",
              "variable_name": "df",
              "summary": "{\n  \"name\": \"df\",\n  \"rows\": 9704,\n  \"fields\": [\n    {\n      \"column\": \"engine_displacement\",\n      \"properties\": {\n        \"dtype\": \"number\",\n        \"std\": 49,\n        \"min\": 10,\n        \"max\": 380,\n        \"num_unique_values\": 36,\n        \"samples\": [\n          30,\n          260,\n          90\n        ],\n        \"semantic_type\": \"\",\n        \"description\": \"\"\n      }\n    },\n    {\n      \"column\": \"horsepower\",\n      \"properties\": {\n        \"dtype\": \"number\",\n        \"std\": 29.879555200339446,\n        \"min\": 37.0,\n        \"max\": 271.0,\n        \"num_unique_values\": 192,\n        \"samples\": [\n          128.0,\n          82.0,\n          167.0\n        ],\n        \"semantic_type\": \"\",\n        \"description\": \"\"\n      }\n    },\n    {\n      \"column\": \"vehicle_weight\",\n      \"properties\": {\n        \"dtype\": \"number\",\n        \"std\": 497.8948600311838,\n        \"min\": 952.6817606436496,\n        \"max\": 4739.077089392099,\n        \"num_unique_values\": 9704,\n        \"samples\": [\n          2535.8875912388694,\n          2741.1704843893167,\n          2471.8802372627765\n        ],\n        \"semantic_type\": \"\",\n        \"description\": \"\"\n      }\n    },\n    {\n      \"column\": \"model_year\",\n      \"properties\": {\n        \"dtype\": \"number\",\n        \"std\": 6,\n        \"min\": 2000,\n        \"max\": 2023,\n        \"num_unique_values\": 24,\n        \"samples\": [\n          2005,\n          2002,\n          2003\n        ],\n        \"semantic_type\": \"\",\n        \"description\": \"\"\n      }\n    },\n    {\n      \"column\": \"fuel_efficiency_mpg\",\n      \"properties\": {\n        \"dtype\": \"number\",\n        \"std\": 2.5564677028974288,\n        \"min\": 6.200970533392815,\n        \"max\": 25.96722204888372,\n        \"num_unique_values\": 9704,\n        \"samples\": [\n          16.642943419221385,\n          16.298377150953442,\n          18.59182197290521\n        ],\n        \"semantic_type\": \"\",\n        \"description\": \"\"\n      }\n    }\n  ]\n}"
            }
          },
          "metadata": {},
          "execution_count": 32
        }
      ]
    },
    {
      "cell_type": "code",
      "source": [
        "df.describe()"
      ],
      "metadata": {
        "colab": {
          "base_uri": "https://localhost:8080/",
          "height": 300
        },
        "id": "f8AoqSINGZPJ",
        "outputId": "8d0bd0e6-7a49-4e24-e9e7-96eb0078b3c3"
      },
      "execution_count": null,
      "outputs": [
        {
          "output_type": "execute_result",
          "data": {
            "text/plain": [
              "       engine_displacement   horsepower  vehicle_weight   model_year  \\\n",
              "count          9704.000000  8996.000000     9704.000000  9704.000000   \n",
              "mean            199.708368   149.657292     3001.280993  2011.484027   \n",
              "std              49.455319    29.879555      497.894860     6.659808   \n",
              "min              10.000000    37.000000      952.681761  2000.000000   \n",
              "25%             170.000000   130.000000     2666.248985  2006.000000   \n",
              "50%             200.000000   149.000000     2993.226296  2012.000000   \n",
              "75%             230.000000   170.000000     3334.957039  2017.000000   \n",
              "max             380.000000   271.000000     4739.077089  2023.000000   \n",
              "\n",
              "       fuel_efficiency_mpg  \n",
              "count          9704.000000  \n",
              "mean             14.985243  \n",
              "std               2.556468  \n",
              "min               6.200971  \n",
              "25%              13.267459  \n",
              "50%              15.006037  \n",
              "75%              16.707965  \n",
              "max              25.967222  "
            ],
            "text/html": [
              "\n",
              "  <div id=\"df-eb85b253-a417-49b8-9a90-6c6862849ba0\" class=\"colab-df-container\">\n",
              "    <div>\n",
              "<style scoped>\n",
              "    .dataframe tbody tr th:only-of-type {\n",
              "        vertical-align: middle;\n",
              "    }\n",
              "\n",
              "    .dataframe tbody tr th {\n",
              "        vertical-align: top;\n",
              "    }\n",
              "\n",
              "    .dataframe thead th {\n",
              "        text-align: right;\n",
              "    }\n",
              "</style>\n",
              "<table border=\"1\" class=\"dataframe\">\n",
              "  <thead>\n",
              "    <tr style=\"text-align: right;\">\n",
              "      <th></th>\n",
              "      <th>engine_displacement</th>\n",
              "      <th>horsepower</th>\n",
              "      <th>vehicle_weight</th>\n",
              "      <th>model_year</th>\n",
              "      <th>fuel_efficiency_mpg</th>\n",
              "    </tr>\n",
              "  </thead>\n",
              "  <tbody>\n",
              "    <tr>\n",
              "      <th>count</th>\n",
              "      <td>9704.000000</td>\n",
              "      <td>8996.000000</td>\n",
              "      <td>9704.000000</td>\n",
              "      <td>9704.000000</td>\n",
              "      <td>9704.000000</td>\n",
              "    </tr>\n",
              "    <tr>\n",
              "      <th>mean</th>\n",
              "      <td>199.708368</td>\n",
              "      <td>149.657292</td>\n",
              "      <td>3001.280993</td>\n",
              "      <td>2011.484027</td>\n",
              "      <td>14.985243</td>\n",
              "    </tr>\n",
              "    <tr>\n",
              "      <th>std</th>\n",
              "      <td>49.455319</td>\n",
              "      <td>29.879555</td>\n",
              "      <td>497.894860</td>\n",
              "      <td>6.659808</td>\n",
              "      <td>2.556468</td>\n",
              "    </tr>\n",
              "    <tr>\n",
              "      <th>min</th>\n",
              "      <td>10.000000</td>\n",
              "      <td>37.000000</td>\n",
              "      <td>952.681761</td>\n",
              "      <td>2000.000000</td>\n",
              "      <td>6.200971</td>\n",
              "    </tr>\n",
              "    <tr>\n",
              "      <th>25%</th>\n",
              "      <td>170.000000</td>\n",
              "      <td>130.000000</td>\n",
              "      <td>2666.248985</td>\n",
              "      <td>2006.000000</td>\n",
              "      <td>13.267459</td>\n",
              "    </tr>\n",
              "    <tr>\n",
              "      <th>50%</th>\n",
              "      <td>200.000000</td>\n",
              "      <td>149.000000</td>\n",
              "      <td>2993.226296</td>\n",
              "      <td>2012.000000</td>\n",
              "      <td>15.006037</td>\n",
              "    </tr>\n",
              "    <tr>\n",
              "      <th>75%</th>\n",
              "      <td>230.000000</td>\n",
              "      <td>170.000000</td>\n",
              "      <td>3334.957039</td>\n",
              "      <td>2017.000000</td>\n",
              "      <td>16.707965</td>\n",
              "    </tr>\n",
              "    <tr>\n",
              "      <th>max</th>\n",
              "      <td>380.000000</td>\n",
              "      <td>271.000000</td>\n",
              "      <td>4739.077089</td>\n",
              "      <td>2023.000000</td>\n",
              "      <td>25.967222</td>\n",
              "    </tr>\n",
              "  </tbody>\n",
              "</table>\n",
              "</div>\n",
              "    <div class=\"colab-df-buttons\">\n",
              "\n",
              "  <div class=\"colab-df-container\">\n",
              "    <button class=\"colab-df-convert\" onclick=\"convertToInteractive('df-eb85b253-a417-49b8-9a90-6c6862849ba0')\"\n",
              "            title=\"Convert this dataframe to an interactive table.\"\n",
              "            style=\"display:none;\">\n",
              "\n",
              "  <svg xmlns=\"http://www.w3.org/2000/svg\" height=\"24px\" viewBox=\"0 -960 960 960\">\n",
              "    <path d=\"M120-120v-720h720v720H120Zm60-500h600v-160H180v160Zm220 220h160v-160H400v160Zm0 220h160v-160H400v160ZM180-400h160v-160H180v160Zm440 0h160v-160H620v160ZM180-180h160v-160H180v160Zm440 0h160v-160H620v160Z\"/>\n",
              "  </svg>\n",
              "    </button>\n",
              "\n",
              "  <style>\n",
              "    .colab-df-container {\n",
              "      display:flex;\n",
              "      gap: 12px;\n",
              "    }\n",
              "\n",
              "    .colab-df-convert {\n",
              "      background-color: #E8F0FE;\n",
              "      border: none;\n",
              "      border-radius: 50%;\n",
              "      cursor: pointer;\n",
              "      display: none;\n",
              "      fill: #1967D2;\n",
              "      height: 32px;\n",
              "      padding: 0 0 0 0;\n",
              "      width: 32px;\n",
              "    }\n",
              "\n",
              "    .colab-df-convert:hover {\n",
              "      background-color: #E2EBFA;\n",
              "      box-shadow: 0px 1px 2px rgba(60, 64, 67, 0.3), 0px 1px 3px 1px rgba(60, 64, 67, 0.15);\n",
              "      fill: #174EA6;\n",
              "    }\n",
              "\n",
              "    .colab-df-buttons div {\n",
              "      margin-bottom: 4px;\n",
              "    }\n",
              "\n",
              "    [theme=dark] .colab-df-convert {\n",
              "      background-color: #3B4455;\n",
              "      fill: #D2E3FC;\n",
              "    }\n",
              "\n",
              "    [theme=dark] .colab-df-convert:hover {\n",
              "      background-color: #434B5C;\n",
              "      box-shadow: 0px 1px 3px 1px rgba(0, 0, 0, 0.15);\n",
              "      filter: drop-shadow(0px 1px 2px rgba(0, 0, 0, 0.3));\n",
              "      fill: #FFFFFF;\n",
              "    }\n",
              "  </style>\n",
              "\n",
              "    <script>\n",
              "      const buttonEl =\n",
              "        document.querySelector('#df-eb85b253-a417-49b8-9a90-6c6862849ba0 button.colab-df-convert');\n",
              "      buttonEl.style.display =\n",
              "        google.colab.kernel.accessAllowed ? 'block' : 'none';\n",
              "\n",
              "      async function convertToInteractive(key) {\n",
              "        const element = document.querySelector('#df-eb85b253-a417-49b8-9a90-6c6862849ba0');\n",
              "        const dataTable =\n",
              "          await google.colab.kernel.invokeFunction('convertToInteractive',\n",
              "                                                    [key], {});\n",
              "        if (!dataTable) return;\n",
              "\n",
              "        const docLinkHtml = 'Like what you see? Visit the ' +\n",
              "          '<a target=\"_blank\" href=https://colab.research.google.com/notebooks/data_table.ipynb>data table notebook</a>'\n",
              "          + ' to learn more about interactive tables.';\n",
              "        element.innerHTML = '';\n",
              "        dataTable['output_type'] = 'display_data';\n",
              "        await google.colab.output.renderOutput(dataTable, element);\n",
              "        const docLink = document.createElement('div');\n",
              "        docLink.innerHTML = docLinkHtml;\n",
              "        element.appendChild(docLink);\n",
              "      }\n",
              "    </script>\n",
              "  </div>\n",
              "\n",
              "\n",
              "    <div id=\"df-ed6bdc77-4578-4e04-94b5-55497faf0fdc\">\n",
              "      <button class=\"colab-df-quickchart\" onclick=\"quickchart('df-ed6bdc77-4578-4e04-94b5-55497faf0fdc')\"\n",
              "                title=\"Suggest charts\"\n",
              "                style=\"display:none;\">\n",
              "\n",
              "<svg xmlns=\"http://www.w3.org/2000/svg\" height=\"24px\"viewBox=\"0 0 24 24\"\n",
              "     width=\"24px\">\n",
              "    <g>\n",
              "        <path d=\"M19 3H5c-1.1 0-2 .9-2 2v14c0 1.1.9 2 2 2h14c1.1 0 2-.9 2-2V5c0-1.1-.9-2-2-2zM9 17H7v-7h2v7zm4 0h-2V7h2v10zm4 0h-2v-4h2v4z\"/>\n",
              "    </g>\n",
              "</svg>\n",
              "      </button>\n",
              "\n",
              "<style>\n",
              "  .colab-df-quickchart {\n",
              "      --bg-color: #E8F0FE;\n",
              "      --fill-color: #1967D2;\n",
              "      --hover-bg-color: #E2EBFA;\n",
              "      --hover-fill-color: #174EA6;\n",
              "      --disabled-fill-color: #AAA;\n",
              "      --disabled-bg-color: #DDD;\n",
              "  }\n",
              "\n",
              "  [theme=dark] .colab-df-quickchart {\n",
              "      --bg-color: #3B4455;\n",
              "      --fill-color: #D2E3FC;\n",
              "      --hover-bg-color: #434B5C;\n",
              "      --hover-fill-color: #FFFFFF;\n",
              "      --disabled-bg-color: #3B4455;\n",
              "      --disabled-fill-color: #666;\n",
              "  }\n",
              "\n",
              "  .colab-df-quickchart {\n",
              "    background-color: var(--bg-color);\n",
              "    border: none;\n",
              "    border-radius: 50%;\n",
              "    cursor: pointer;\n",
              "    display: none;\n",
              "    fill: var(--fill-color);\n",
              "    height: 32px;\n",
              "    padding: 0;\n",
              "    width: 32px;\n",
              "  }\n",
              "\n",
              "  .colab-df-quickchart:hover {\n",
              "    background-color: var(--hover-bg-color);\n",
              "    box-shadow: 0 1px 2px rgba(60, 64, 67, 0.3), 0 1px 3px 1px rgba(60, 64, 67, 0.15);\n",
              "    fill: var(--button-hover-fill-color);\n",
              "  }\n",
              "\n",
              "  .colab-df-quickchart-complete:disabled,\n",
              "  .colab-df-quickchart-complete:disabled:hover {\n",
              "    background-color: var(--disabled-bg-color);\n",
              "    fill: var(--disabled-fill-color);\n",
              "    box-shadow: none;\n",
              "  }\n",
              "\n",
              "  .colab-df-spinner {\n",
              "    border: 2px solid var(--fill-color);\n",
              "    border-color: transparent;\n",
              "    border-bottom-color: var(--fill-color);\n",
              "    animation:\n",
              "      spin 1s steps(1) infinite;\n",
              "  }\n",
              "\n",
              "  @keyframes spin {\n",
              "    0% {\n",
              "      border-color: transparent;\n",
              "      border-bottom-color: var(--fill-color);\n",
              "      border-left-color: var(--fill-color);\n",
              "    }\n",
              "    20% {\n",
              "      border-color: transparent;\n",
              "      border-left-color: var(--fill-color);\n",
              "      border-top-color: var(--fill-color);\n",
              "    }\n",
              "    30% {\n",
              "      border-color: transparent;\n",
              "      border-left-color: var(--fill-color);\n",
              "      border-top-color: var(--fill-color);\n",
              "      border-right-color: var(--fill-color);\n",
              "    }\n",
              "    40% {\n",
              "      border-color: transparent;\n",
              "      border-right-color: var(--fill-color);\n",
              "      border-top-color: var(--fill-color);\n",
              "    }\n",
              "    60% {\n",
              "      border-color: transparent;\n",
              "      border-right-color: var(--fill-color);\n",
              "    }\n",
              "    80% {\n",
              "      border-color: transparent;\n",
              "      border-right-color: var(--fill-color);\n",
              "      border-bottom-color: var(--fill-color);\n",
              "    }\n",
              "    90% {\n",
              "      border-color: transparent;\n",
              "      border-bottom-color: var(--fill-color);\n",
              "    }\n",
              "  }\n",
              "</style>\n",
              "\n",
              "      <script>\n",
              "        async function quickchart(key) {\n",
              "          const quickchartButtonEl =\n",
              "            document.querySelector('#' + key + ' button');\n",
              "          quickchartButtonEl.disabled = true;  // To prevent multiple clicks.\n",
              "          quickchartButtonEl.classList.add('colab-df-spinner');\n",
              "          try {\n",
              "            const charts = await google.colab.kernel.invokeFunction(\n",
              "                'suggestCharts', [key], {});\n",
              "          } catch (error) {\n",
              "            console.error('Error during call to suggestCharts:', error);\n",
              "          }\n",
              "          quickchartButtonEl.classList.remove('colab-df-spinner');\n",
              "          quickchartButtonEl.classList.add('colab-df-quickchart-complete');\n",
              "        }\n",
              "        (() => {\n",
              "          let quickchartButtonEl =\n",
              "            document.querySelector('#df-ed6bdc77-4578-4e04-94b5-55497faf0fdc button');\n",
              "          quickchartButtonEl.style.display =\n",
              "            google.colab.kernel.accessAllowed ? 'block' : 'none';\n",
              "        })();\n",
              "      </script>\n",
              "    </div>\n",
              "\n",
              "    </div>\n",
              "  </div>\n"
            ],
            "application/vnd.google.colaboratory.intrinsic+json": {
              "type": "dataframe",
              "summary": "{\n  \"name\": \"df\",\n  \"rows\": 8,\n  \"fields\": [\n    {\n      \"column\": \"engine_displacement\",\n      \"properties\": {\n        \"dtype\": \"number\",\n        \"std\": 3370.1873904348618,\n        \"min\": 10.0,\n        \"max\": 9704.0,\n        \"num_unique_values\": 8,\n        \"samples\": [\n          199.70836768342951,\n          200.0,\n          9704.0\n        ],\n        \"semantic_type\": \"\",\n        \"description\": \"\"\n      }\n    },\n    {\n      \"column\": \"horsepower\",\n      \"properties\": {\n        \"dtype\": \"number\",\n        \"std\": 3134.1940423327824,\n        \"min\": 29.879555200339446,\n        \"max\": 8996.0,\n        \"num_unique_values\": 8,\n        \"samples\": [\n          149.65729212983547,\n          149.0,\n          8996.0\n        ],\n        \"semantic_type\": \"\",\n        \"description\": \"\"\n      }\n    },\n    {\n      \"column\": \"vehicle_weight\",\n      \"properties\": {\n        \"dtype\": \"number\",\n        \"std\": 2847.374322553959,\n        \"min\": 497.8948600311838,\n        \"max\": 9704.0,\n        \"num_unique_values\": 8,\n        \"samples\": [\n          3001.280993373135,\n          2993.2262961692163,\n          9704.0\n        ],\n        \"semantic_type\": \"\",\n        \"description\": \"\"\n      }\n    },\n    {\n      \"column\": \"model_year\",\n      \"properties\": {\n        \"dtype\": \"number\",\n        \"std\": 2906.8857454938493,\n        \"min\": 6.659807627820643,\n        \"max\": 9704.0,\n        \"num_unique_values\": 8,\n        \"samples\": [\n          2011.484027205276,\n          2012.0,\n          9704.0\n        ],\n        \"semantic_type\": \"\",\n        \"description\": \"\"\n      }\n    },\n    {\n      \"column\": \"fuel_efficiency_mpg\",\n      \"properties\": {\n        \"dtype\": \"number\",\n        \"std\": 3426.1066230491747,\n        \"min\": 2.5564677028974288,\n        \"max\": 9704.0,\n        \"num_unique_values\": 8,\n        \"samples\": [\n          14.985243228208573,\n          15.006036963481211,\n          9704.0\n        ],\n        \"semantic_type\": \"\",\n        \"description\": \"\"\n      }\n    }\n  ]\n}"
            }
          },
          "metadata": {},
          "execution_count": 33
        }
      ]
    },
    {
      "cell_type": "code",
      "source": [
        "df.isnull().sum()"
      ],
      "metadata": {
        "colab": {
          "base_uri": "https://localhost:8080/",
          "height": 241
        },
        "id": "WXOzzpvJGaQl",
        "outputId": "619d3efd-963d-44c5-932c-e371ce9d6b4f"
      },
      "execution_count": null,
      "outputs": [
        {
          "output_type": "execute_result",
          "data": {
            "text/plain": [
              "engine_displacement      0\n",
              "horsepower             708\n",
              "vehicle_weight           0\n",
              "model_year               0\n",
              "fuel_efficiency_mpg      0\n",
              "dtype: int64"
            ],
            "text/html": [
              "<div>\n",
              "<style scoped>\n",
              "    .dataframe tbody tr th:only-of-type {\n",
              "        vertical-align: middle;\n",
              "    }\n",
              "\n",
              "    .dataframe tbody tr th {\n",
              "        vertical-align: top;\n",
              "    }\n",
              "\n",
              "    .dataframe thead th {\n",
              "        text-align: right;\n",
              "    }\n",
              "</style>\n",
              "<table border=\"1\" class=\"dataframe\">\n",
              "  <thead>\n",
              "    <tr style=\"text-align: right;\">\n",
              "      <th></th>\n",
              "      <th>0</th>\n",
              "    </tr>\n",
              "  </thead>\n",
              "  <tbody>\n",
              "    <tr>\n",
              "      <th>engine_displacement</th>\n",
              "      <td>0</td>\n",
              "    </tr>\n",
              "    <tr>\n",
              "      <th>horsepower</th>\n",
              "      <td>708</td>\n",
              "    </tr>\n",
              "    <tr>\n",
              "      <th>vehicle_weight</th>\n",
              "      <td>0</td>\n",
              "    </tr>\n",
              "    <tr>\n",
              "      <th>model_year</th>\n",
              "      <td>0</td>\n",
              "    </tr>\n",
              "    <tr>\n",
              "      <th>fuel_efficiency_mpg</th>\n",
              "      <td>0</td>\n",
              "    </tr>\n",
              "  </tbody>\n",
              "</table>\n",
              "</div><br><label><b>dtype:</b> int64</label>"
            ]
          },
          "metadata": {},
          "execution_count": 34
        }
      ]
    },
    {
      "cell_type": "code",
      "source": [
        "print(\"QUESTION 1: Column with missing values\")\n",
        "print(f\"verifying the current columns{df.shape}\")\n",
        "\n",
        "missing_values = df.isnull().sum()\n",
        "print(\"Missing values per column:\")\n",
        "for col in df.columns:\n",
        "    missing_count = df[col].isnull().sum()\n",
        "    if missing_count > 0:\n",
        "        print(f\"  {col}: {missing_count} missing values\")"
      ],
      "metadata": {
        "colab": {
          "base_uri": "https://localhost:8080/"
        },
        "id": "etlhi3HnGgAC",
        "outputId": "67c7c63f-3511-43c9-f590-7228f313b475"
      },
      "execution_count": null,
      "outputs": [
        {
          "output_type": "stream",
          "name": "stdout",
          "text": [
            "QUESTION 1: Column with missing values\n",
            "verifying the current columns(9704, 5)\n",
            "Missing values per column:\n",
            "  horsepower: 708 missing values\n"
          ]
        }
      ]
    },
    {
      "cell_type": "markdown",
      "source": [
        "#2. The median (50% percentile) for variable 'horsepower'"
      ],
      "metadata": {
        "id": "qV16dz8IGh6M"
      }
    },
    {
      "cell_type": "code",
      "source": [
        "df['horsepower'].describe()"
      ],
      "metadata": {
        "colab": {
          "base_uri": "https://localhost:8080/",
          "height": 335
        },
        "id": "VUSjPVn8Gt4O",
        "outputId": "b9dea3ba-5821-426d-807b-88e4dc4b30d8"
      },
      "execution_count": null,
      "outputs": [
        {
          "output_type": "execute_result",
          "data": {
            "text/plain": [
              "count    8996.000000\n",
              "mean      149.657292\n",
              "std        29.879555\n",
              "min        37.000000\n",
              "25%       130.000000\n",
              "50%       149.000000\n",
              "75%       170.000000\n",
              "max       271.000000\n",
              "Name: horsepower, dtype: float64"
            ],
            "text/html": [
              "<div>\n",
              "<style scoped>\n",
              "    .dataframe tbody tr th:only-of-type {\n",
              "        vertical-align: middle;\n",
              "    }\n",
              "\n",
              "    .dataframe tbody tr th {\n",
              "        vertical-align: top;\n",
              "    }\n",
              "\n",
              "    .dataframe thead th {\n",
              "        text-align: right;\n",
              "    }\n",
              "</style>\n",
              "<table border=\"1\" class=\"dataframe\">\n",
              "  <thead>\n",
              "    <tr style=\"text-align: right;\">\n",
              "      <th></th>\n",
              "      <th>horsepower</th>\n",
              "    </tr>\n",
              "  </thead>\n",
              "  <tbody>\n",
              "    <tr>\n",
              "      <th>count</th>\n",
              "      <td>8996.000000</td>\n",
              "    </tr>\n",
              "    <tr>\n",
              "      <th>mean</th>\n",
              "      <td>149.657292</td>\n",
              "    </tr>\n",
              "    <tr>\n",
              "      <th>std</th>\n",
              "      <td>29.879555</td>\n",
              "    </tr>\n",
              "    <tr>\n",
              "      <th>min</th>\n",
              "      <td>37.000000</td>\n",
              "    </tr>\n",
              "    <tr>\n",
              "      <th>25%</th>\n",
              "      <td>130.000000</td>\n",
              "    </tr>\n",
              "    <tr>\n",
              "      <th>50%</th>\n",
              "      <td>149.000000</td>\n",
              "    </tr>\n",
              "    <tr>\n",
              "      <th>75%</th>\n",
              "      <td>170.000000</td>\n",
              "    </tr>\n",
              "    <tr>\n",
              "      <th>max</th>\n",
              "      <td>271.000000</td>\n",
              "    </tr>\n",
              "  </tbody>\n",
              "</table>\n",
              "</div><br><label><b>dtype:</b> float64</label>"
            ]
          },
          "metadata": {},
          "execution_count": 36
        }
      ]
    },
    {
      "cell_type": "code",
      "source": [
        "df['horsepower'].median()"
      ],
      "metadata": {
        "colab": {
          "base_uri": "https://localhost:8080/"
        },
        "id": "hbuRb-nuG5tC",
        "outputId": "d228af64-4ec4-4090-c01c-5033f440c33d"
      },
      "execution_count": null,
      "outputs": [
        {
          "output_type": "execute_result",
          "data": {
            "text/plain": [
              "149.0"
            ]
          },
          "metadata": {},
          "execution_count": 37
        }
      ]
    },
    {
      "cell_type": "code",
      "source": [
        "median_horsepower = df['horsepower'].median()\n",
        "print(f\"The median (50% percentile) for variable 'horsepower' is: {median_horsepower}\")"
      ],
      "metadata": {
        "colab": {
          "base_uri": "https://localhost:8080/"
        },
        "id": "hZ6px3ClG_pe",
        "outputId": "eede64f9-daab-4471-d5b6-a95aa2291340"
      },
      "execution_count": null,
      "outputs": [
        {
          "output_type": "stream",
          "name": "stdout",
          "text": [
            "The median (50% percentile) for variable 'horsepower' is: 149.0\n"
          ]
        }
      ]
    },
    {
      "cell_type": "markdown",
      "source": [
        "#0.3. Splitting datasets, and creating helper functions for further questions"
      ],
      "metadata": {
        "id": "zRWXExsYHKpE"
      }
    },
    {
      "cell_type": "markdown",
      "source": [
        "Split the Datasets"
      ],
      "metadata": {
        "id": "Ij0k65g9MrV4"
      }
    },
    {
      "cell_type": "code",
      "source": [
        "# Shuffle the data with seed 42\n",
        "np.random.seed(42)\n",
        "n = len(df)\n",
        "idx = np.arange(n)\n",
        "np.random.shuffle(idx)\n",
        "df_shuffled = df.iloc[idx].reset_index(drop=True)\n",
        "\n",
        "# Calculate split sizes\n",
        "n_train = int(0.6 * n)\n",
        "n_val = int(0.2 * n)\n",
        "n_test = n - n_train - n_val\n",
        "\n",
        "# Split the data\n",
        "df_train = df_shuffled.iloc[:n_train].copy()\n",
        "df_val = df_shuffled.iloc[n_train:n_train+n_val].copy()\n",
        "df_test = df_shuffled.iloc[n_train+n_val:].copy()\n",
        "\n",
        "print(f\"Train set: {len(df_train)} rows\")\n",
        "print(f\"Validation set: {len(df_val)} rows\")\n",
        "print(f\"Test set: {len(df_test)} rows\")\n",
        "\n",
        "# Separate the target variable\n",
        "y_train = df_train['fuel_efficiency_mpg'].values\n",
        "y_val = df_val['fuel_efficiency_mpg'].values\n",
        "y_test = df_test['fuel_efficiency_mpg'].values\n",
        "\n",
        "# Remove target from features\n",
        "del df_train['fuel_efficiency_mpg']\n",
        "del df_val['fuel_efficiency_mpg']\n",
        "del df_test['fuel_efficiency_mpg']\n",
        "\n",
        "print(\"Data split complete!\")\n"
      ],
      "metadata": {
        "colab": {
          "base_uri": "https://localhost:8080/"
        },
        "id": "HXkgI-9xInnZ",
        "outputId": "fa9db7cf-1499-43d6-97ed-1d227426b01d"
      },
      "execution_count": null,
      "outputs": [
        {
          "output_type": "stream",
          "name": "stdout",
          "text": [
            "Train set: 5822 rows\n",
            "Validation set: 1940 rows\n",
            "Test set: 1942 rows\n",
            "\n",
            "Data split complete!\n",
            "\n"
          ]
        }
      ]
    },
    {
      "cell_type": "markdown",
      "source": [
        "Helper Functions!"
      ],
      "metadata": {
        "id": "z9G0-y8OM1K2"
      }
    },
    {
      "cell_type": "code",
      "source": [
        "def train_model(X, y):\n",
        "    # Add ones for bias\n",
        "    ones = np.ones(X.shape[0])\n",
        "    X_with_bias = np.column_stack([ones, X])\n",
        "\n",
        "    # Normal equation: w = (X^T X)^-1 X^T y\n",
        "    XTX = X_with_bias.T.dot(X_with_bias)\n",
        "    XTX_inv = np.linalg.inv(XTX)\n",
        "    w_full = XTX_inv.dot(X_with_bias.T).dot(y)\n",
        "\n",
        "    bias = w_full[0]\n",
        "    weights = w_full[1:]\n",
        "    return bias, weights\n",
        "\n",
        "def train_model_regularized(X, y, r):\n",
        "    # Add ones for bias\n",
        "    ones = np.ones(X.shape[0])\n",
        "    X_with_bias = np.column_stack([ones, X])\n",
        "\n",
        "    # Ridge regression: w = (X^T X + r*I)^-1 X^T y\n",
        "    XTX = X_with_bias.T.dot(X_with_bias)\n",
        "    regularization = r * np.eye(XTX.shape[0])\n",
        "    XTX_reg = XTX + regularization\n",
        "    XTX_inv = np.linalg.inv(XTX_reg)\n",
        "    w_full = XTX_inv.dot(X_with_bias.T).dot(y)\n",
        "\n",
        "    bias = w_full[0]\n",
        "    weights = w_full[1:]\n",
        "    return bias, weights\n",
        "\n",
        "def predict(X, bias, weights):\n",
        "    return bias + X.dot(weights)\n",
        "\n",
        "def rmse(y_true, y_pred):\n",
        "    mse = ((y_true - y_pred) ** 2).mean()\n",
        "    return np.sqrt(mse)"
      ],
      "metadata": {
        "id": "WpXL2sKOIwab"
      },
      "execution_count": null,
      "outputs": []
    },
    {
      "cell_type": "markdown",
      "source": [
        "#3 Missing Values using either 0's or mean values, & train Linear regression without regularization. Validate and compare RMSE of each option"
      ],
      "metadata": {
        "id": "Mv451GW9M-rz"
      }
    },
    {
      "cell_type": "code",
      "source": [
        "# Option 1: Fill with 0\n",
        "print(\"Testing Option 1: Fill missing values with 0\")\n",
        "X_train_0 = df_train.fillna(0).values\n",
        "X_val_0 = df_val.fillna(0).values\n",
        "\n",
        "bias_0, weights_0 = train_model(X_train_0, y_train)\n",
        "pred_0 = predict(X_val_0, bias_0, weights_0)\n",
        "rmse_0 = rmse(y_val, pred_0)\n",
        "\n",
        "print(f\"  RMSE = {round(rmse_0, 2)}\")\n",
        "\n",
        "# Option 2: Fill with mean\n",
        "print(\"Testing Option 2: Fill missing values with mean\")\n",
        "mean_value = df_train['horsepower'].mean()\n",
        "print(f\"  Mean from training data = {mean_value:.2f}\")\n",
        "\n",
        "X_train_mean = df_train.fillna(mean_value).values\n",
        "X_val_mean = df_val.fillna(mean_value).values\n",
        "\n",
        "bias_mean, weights_mean = train_model(X_train_mean, y_train)\n",
        "pred_mean = predict(X_val_mean, bias_mean, weights_mean)\n",
        "rmse_mean = rmse(y_val, pred_mean)\n",
        "\n",
        "print(f\"  RMSE = {round(rmse_mean, 2)}\")\n",
        "\n",
        "# Finally Compare The results\n",
        "print(\"RESULTS:\")\n",
        "print(f\"  RMSE with 0:    {round(rmse_0, 2)}\")\n",
        "print(f\"  RMSE with mean: {round(rmse_mean, 2)}\")\n",
        "\n",
        "if round(rmse_0, 2) < round(rmse_mean, 2):\n",
        "    answer_q3 = \"With 0 values is good\"\n",
        "elif round(rmse_0, 2) > round(rmse_mean, 2):\n",
        "    answer_q3 = \"With mean is good\"\n",
        "else:\n",
        "    answer_q3 = \"Both are equally good\"\n",
        "\n",
        "print(f\"Answer Q3: {answer_q3}\")"
      ],
      "metadata": {
        "colab": {
          "base_uri": "https://localhost:8080/"
        },
        "id": "FvZtFEWXNqoJ",
        "outputId": "756cd80b-9b44-4ae3-d519-5fa7f23d1eaf"
      },
      "execution_count": null,
      "outputs": [
        {
          "output_type": "stream",
          "name": "stdout",
          "text": [
            "Testing Option 1: Fill missing values with 0\n",
            "  RMSE = 0.52\n",
            "Testing Option 2: Fill missing values with mean\n",
            "  Mean from training data = 149.54\n",
            "  RMSE = 0.46\n",
            "RESULTS:\n",
            "  RMSE with 0:    0.52\n",
            "  RMSE with mean: 0.46\n",
            "Answer Q3: With mean is good\n"
          ]
        }
      ]
    },
    {
      "cell_type": "markdown",
      "source": [
        "#4. Regularized Linear Regression"
      ],
      "metadata": {
        "id": "pwXYlkeZOFQC"
      }
    },
    {
      "cell_type": "code",
      "source": [
        "# Fill with 0 as instructed\n",
        "X_train = df_train.fillna(0).values\n",
        "X_val = df_val.fillna(0).values\n",
        "\n",
        "# Try different r values\n",
        "r_list = [0, 0.01, 0.1, 1, 5, 10, 100]\n",
        "rmse_results = {}\n",
        "\n",
        "print(\"Testing different r values:\")\n",
        "\n",
        "for r in r_list:\n",
        "    bias, weights = train_model_regularized(X_train, y_train, r)\n",
        "    pred = predict(X_val, bias, weights)\n",
        "    score = rmse(y_val, pred)\n",
        "    rmse_results[r] = round(score, 2)\n",
        "    print(f\"  r = {r:>6}  -->  RMSE = {round(score, 2)}\")\n",
        "\n",
        "# Find best r\n",
        "best_r = min(rmse_results, key=rmse_results.get)\n",
        "\n",
        "print(f\"Best r value: {best_r}\")\n",
        "print(f\"Best RMSE: {rmse_results[best_r]}\")\n",
        "print(f\"Answer Q4: {best_r}\")"
      ],
      "metadata": {
        "colab": {
          "base_uri": "https://localhost:8080/"
        },
        "id": "ivI3aLJ_OODJ",
        "outputId": "8bc7cf27-3c33-4687-b349-ce86f549bce6"
      },
      "execution_count": null,
      "outputs": [
        {
          "output_type": "stream",
          "name": "stdout",
          "text": [
            "Testing different r values:\n",
            "  r =      0  -->  RMSE = 0.52\n",
            "  r =   0.01  -->  RMSE = 0.52\n",
            "  r =    0.1  -->  RMSE = 0.52\n",
            "  r =      1  -->  RMSE = 0.52\n",
            "  r =      5  -->  RMSE = 0.52\n",
            "  r =     10  -->  RMSE = 0.52\n",
            "  r =    100  -->  RMSE = 0.52\n",
            "\n",
            "Best r value: 0\n",
            "Best RMSE: 0.52\n",
            "\n",
            "Answer Q4: 0\n"
          ]
        }
      ]
    },
    {
      "cell_type": "markdown",
      "source": [
        "Since all r values give RMSE = 0.52, hence choosing r = 0 (as it was the smallest value)."
      ],
      "metadata": {
        "id": "xxSGwi6gOqVE"
      }
    },
    {
      "cell_type": "markdown",
      "source": [
        "#5. Try with different seed values."
      ],
      "metadata": {
        "id": "AAFSBjk1OyeI"
      }
    },
    {
      "cell_type": "code",
      "source": [
        "seed_list = [0, 1, 2, 3, 4, 5, 6, 7, 8, 9]\n",
        "\n",
        "# Store RMSE for each seed\n",
        "rmse_scores = []\n",
        "\n",
        "# Calculate split sizes (60/20/20)\n",
        "n = len(df)\n",
        "n_train = int(0.6 * n)\n",
        "n_val = int(0.2 * n)\n",
        "n_test = n - n_train - n_val\n",
        "\n",
        "print(\"Testing each seed:\")\n",
        "print(\"-\"*60)\n",
        "\n",
        "# Try each seed\n",
        "for seed in seed_list:\n",
        "    # Shuffle with this seed\n",
        "    np.random.seed(seed)\n",
        "    idx = np.arange(n)\n",
        "    np.random.shuffle(idx)\n",
        "    df_shuffled = df.iloc[idx].reset_index(drop=True)\n",
        "\n",
        "    # Split the data\n",
        "    df_train = df_shuffled.iloc[:n_train].copy()\n",
        "    df_val = df_shuffled.iloc[n_train:n_train+n_val].copy()\n",
        "\n",
        "    # Separate target variable\n",
        "    y_train = df_train['fuel_efficiency_mpg'].values\n",
        "    y_val = df_val['fuel_efficiency_mpg'].values\n",
        "\n",
        "    # Remove target from features\n",
        "    del df_train['fuel_efficiency_mpg']\n",
        "    del df_val['fuel_efficiency_mpg']\n",
        "\n",
        "    # Fill missing values with 0\n",
        "    X_train = df_train.fillna(0).values\n",
        "    X_val = df_val.fillna(0).values\n",
        "\n",
        "    # Train model without regularization (r=0)\n",
        "    bias, weights = train_model(X_train, y_train)\n",
        "\n",
        "    # Make predictions\n",
        "    predictions = predict(X_val, bias, weights)\n",
        "\n",
        "    # Calculate RMSE\n",
        "    score = rmse(y_val, predictions)\n",
        "    rmse_scores.append(score)\n",
        "\n",
        "    print(f\"  Seed {seed}: RMSE = {score:.3f}\")\n",
        "\n",
        "# Calculate standard deviation\n",
        "std_dev = np.std(rmse_scores)\n",
        "\n",
        "print(\"RMSE scores for all seeds:\")\n",
        "print(f\"  {[round(s, 3) for s in rmse_scores]}\")\n",
        "print(f\"Standard deviation: {round(std_dev, 3)}\")\n",
        "print(f\"Answer Q5: {round(std_dev, 3)}\")\n"
      ],
      "metadata": {
        "colab": {
          "base_uri": "https://localhost:8080/"
        },
        "id": "WV95vAacQNmv",
        "outputId": "312aa67f-c310-4e23-e81a-572a45271c86"
      },
      "execution_count": null,
      "outputs": [
        {
          "output_type": "stream",
          "name": "stdout",
          "text": [
            "Testing each seed:\n",
            "------------------------------------------------------------\n",
            "  Seed 0: RMSE = 0.521\n",
            "  Seed 1: RMSE = 0.522\n",
            "  Seed 2: RMSE = 0.523\n",
            "  Seed 3: RMSE = 0.516\n",
            "  Seed 4: RMSE = 0.511\n",
            "  Seed 5: RMSE = 0.529\n",
            "  Seed 6: RMSE = 0.532\n",
            "  Seed 7: RMSE = 0.510\n",
            "  Seed 8: RMSE = 0.515\n",
            "  Seed 9: RMSE = 0.513\n",
            "RMSE scores for all seeds:\n",
            "  [np.float64(0.521), np.float64(0.522), np.float64(0.523), np.float64(0.516), np.float64(0.511), np.float64(0.529), np.float64(0.532), np.float64(0.51), np.float64(0.515), np.float64(0.513)]\n",
            "Standard deviation: 0.007\n",
            "Answer Q5: 0.007\n"
          ]
        }
      ]
    },
    {
      "cell_type": "markdown",
      "source": [
        "#6. Split the dataset using seed 9"
      ],
      "metadata": {
        "id": "GPgO59psRA3N"
      }
    },
    {
      "cell_type": "code",
      "source": [
        "# Shuffle with seed 9\n",
        "np.random.seed(9)\n",
        "idx = np.arange(n)\n",
        "np.random.shuffle(idx)\n",
        "df_shuffled = df.iloc[idx].reset_index(drop=True)\n",
        "\n",
        "# Split into train, val, and test\n",
        "df_train_9 = df_shuffled.iloc[:n_train].copy()\n",
        "df_val_9 = df_shuffled.iloc[n_train:n_train+n_val].copy()\n",
        "df_test_9 = df_shuffled.iloc[n_train+n_val:].copy()\n",
        "\n",
        "print(f\"Train set: {len(df_train_9)} rows\")\n",
        "print(f\"Val set: {len(df_val_9)} rows\")\n",
        "print(f\"Test set: {len(df_test_9)} rows\")\n",
        "\n",
        "# Combine train and validation\n",
        "df_full_train = pd.concat([df_train_9, df_val_9]).reset_index(drop=True)\n",
        "print(f\"Combined train+val: {len(df_full_train)} rows\")\n",
        "\n",
        "# Separate target variable\n",
        "y_full_train = df_full_train['fuel_efficiency_mpg'].values\n",
        "y_test = df_test_9['fuel_efficiency_mpg'].values\n",
        "\n",
        "# Remove target from features\n",
        "del df_full_train['fuel_efficiency_mpg']\n",
        "del df_test_9['fuel_efficiency_mpg']\n",
        "\n",
        "# Fill missing values with 0\n",
        "X_full_train = df_full_train.fillna(0).values\n",
        "X_test = df_test_9.fillna(0).values\n",
        "\n",
        "# Train model with r=0.001\n",
        "print(\"Training model with regularization r=0.001...\")\n",
        "bias, weights = train_model_regularized(X_full_train, y_full_train, r=0.001)\n",
        "\n",
        "# Make predictions on test set\n",
        "predictions_test = predict(X_test, bias, weights)\n",
        "\n",
        "# Calculate RMSE on test set\n",
        "rmse_test = rmse(y_test, predictions_test)\n",
        "\n",
        "print(f\"RMSE on test set: {rmse_test:.3f}\")\n",
        "print(f\"Rounded to 2 decimals: {round(rmse_test, 2)}\")\n",
        "print(f\"Answer Q6: {round(rmse_test, 2)}\")\n"
      ],
      "metadata": {
        "colab": {
          "base_uri": "https://localhost:8080/"
        },
        "id": "Xy3jyknVRGCk",
        "outputId": "cdbe32bc-0fb6-4d68-cfe8-0507c39370eb"
      },
      "execution_count": null,
      "outputs": [
        {
          "output_type": "stream",
          "name": "stdout",
          "text": [
            "Train set: 5822 rows\n",
            "Val set: 1940 rows\n",
            "Test set: 1942 rows\n",
            "Combined train+val: 7762 rows\n",
            "Training model with regularization r=0.001...\n",
            "RMSE on test set: 0.516\n",
            "Rounded to 2 decimals: 0.52\n",
            "Answer Q6: 0.52\n"
          ]
        }
      ]
    }
  ]
}